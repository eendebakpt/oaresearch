{
 "cells": [
  {
   "cell_type": "markdown",
   "metadata": {},
   "source": [
    "# Analyse designs in OA(62, 3, 2)\n",
    "\n",
    "We analyse the designs in $\\mathrm{OA}(64, 3, 2^a)$ for properties of $J_5$ and $J_7$.\n",
    "\n",
    "First we generate all designs upto and including 7 columns. Note: this can take several minutes."
   ]
  },
  {
   "cell_type": "code",
   "execution_count": 4,
   "metadata": {},
   "outputs": [
    {
     "name": "stdout",
     "output_type": "stream",
     "text": [
      "arrayclass: N 64, k 7, strength 3, s {2,2,2,2,2,2,2}, order 0\n"
     ]
    }
   ],
   "source": [
    "import os\n",
    "import tempfile\n",
    "import oapackage\n",
    "import numpy as np\n",
    "\n",
    "r = oapackage.log_print(-oapackage.SYSTEM, \"\")\n",
    "\n",
    "N=64\n",
    "strength=3\n",
    "adata = oapackage.arraydata_t(2, N, strength, 7)\n",
    "print(adata)"
   ]
  },
  {
   "cell_type": "code",
   "execution_count": 2,
   "metadata": {},
   "outputs": [
    {
     "name": "stdout",
     "output_type": "stream",
     "text": [
      "extended 1 designs to 5 designs with 4 columns\n",
      "extended 5 designs to 19 designs with 5 columns\n",
      "extended 19 designs to 358 designs with 6 columns\n",
      "extended 358 designs to 91789 designs with 7 columns\n"
     ]
    }
   ],
   "source": [
    "options=oapackage.OAextend()\n",
    "options.setAlgorithm(oapackage.MODE_J5ORDERX)\n",
    "solutions={3: [adata.create_root()]}\n",
    "    \n",
    "for k in range(3, 7):\n",
    "    solutions[k+1] = oapackage.extend_arraylist(solutions[k], adata, options)\n",
    "    print(f'extended {len(solutions[k])} designs to {len(solutions[k+1])} designs with {k+1} columns')"
   ]
  },
  {
   "cell_type": "markdown",
   "metadata": {},
   "source": [
    "We are interested in designs with $\\max(J_5)=0$, but $\\max(J_{2k+1}) \\ne 0$, for $k>=3$. Calculation of designs with 9 columns is not feasible, so we concentrate on $J_7$."
   ]
  },
  {
   "cell_type": "code",
   "execution_count": 6,
   "metadata": {},
   "outputs": [
    {
     "name": "stdout",
     "output_type": "stream",
     "text": [
      "design 91788: max(J5) 0 max(J7) 64 gwlp (1.0, 0.0, 0.0, 0.0, 0.0, 0.0, 0.0, 1.0)\n"
     ]
    }
   ],
   "source": [
    "aa=solutions[7] \n",
    "for idx, A in enumerate(aa):\n",
    "    maxJ5 = np.max(np.abs(A.Jcharacteristics(5)))\n",
    "    maxJ7 = np.max(np.abs(A.Jcharacteristics(7)))\n",
    "    if maxJ5==0 and maxJ7!=0:\n",
    "            js = oapackage.jstruct_t(A, 5)\n",
    "            mj5 = js.maxJ()\n",
    "            js7 = oapackage.jstruct_t(A, 7)\n",
    "            mj7 = js7.maxJ()\n",
    "            print(f'design {idx}: max(J5) {mj5} max(J7) {mj7} gwlp {A.GWLP()}')"
   ]
  },
  {
   "cell_type": "code",
   "execution_count": 8,
   "metadata": {},
   "outputs": [
    {
     "data": {
      "text/plain": [
       "list of array_link objects with 0 elements"
      ]
     },
     "execution_count": 8,
     "metadata": {},
     "output_type": "execute_result"
    }
   ],
   "source": [
    "A=aa[91788]\n",
    "adata8 = oapackage.arraydata_t(2, N, strength, 8)\n",
    "oapackage.extendSingleArray(A, adata8)"
   ]
  },
  {
   "cell_type": "code",
   "execution_count": null,
   "metadata": {},
   "outputs": [],
   "source": []
  }
 ],
 "metadata": {
  "kernelspec": {
   "display_name": "Python 3",
   "language": "python",
   "name": "python3"
  },
  "language_info": {
   "codemirror_mode": {
    "name": "ipython",
    "version": 3
   },
   "file_extension": ".py",
   "mimetype": "text/x-python",
   "name": "python",
   "nbconvert_exporter": "python",
   "pygments_lexer": "ipython3",
   "version": "3.8.10"
  }
 },
 "nbformat": 4,
 "nbformat_minor": 4
}
